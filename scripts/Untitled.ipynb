{
 "cells": [
  {
   "cell_type": "code",
   "execution_count": 1,
   "metadata": {},
   "outputs": [],
   "source": [
    "import numpy as np\n",
    "import matplotlib.pyplot as plt\n",
    "import scipy.stats as sp\n",
    "import pandas as pd\n",
    "import seaborn as sns\n",
    "import math"
   ]
  },
  {
   "cell_type": "code",
   "execution_count": 12,
   "metadata": {},
   "outputs": [
    {
     "data": {
      "text/html": [
       "<div>\n",
       "<style scoped>\n",
       "    .dataframe tbody tr th:only-of-type {\n",
       "        vertical-align: middle;\n",
       "    }\n",
       "\n",
       "    .dataframe tbody tr th {\n",
       "        vertical-align: top;\n",
       "    }\n",
       "\n",
       "    .dataframe thead th {\n",
       "        text-align: right;\n",
       "    }\n",
       "</style>\n",
       "<table border=\"1\" class=\"dataframe\">\n",
       "  <thead>\n",
       "    <tr style=\"text-align: right;\">\n",
       "      <th></th>\n",
       "      <th>Unnamed: 0</th>\n",
       "      <th>DIP_Rate</th>\n",
       "      <th>Cell_Line</th>\n",
       "    </tr>\n",
       "  </thead>\n",
       "  <tbody>\n",
       "    <tr>\n",
       "      <td>0</td>\n",
       "      <td>1754</td>\n",
       "      <td>0.000568</td>\n",
       "      <td>PC9-DS9</td>\n",
       "    </tr>\n",
       "    <tr>\n",
       "      <td>1</td>\n",
       "      <td>1755</td>\n",
       "      <td>-0.001808</td>\n",
       "      <td>PC9-DS9</td>\n",
       "    </tr>\n",
       "    <tr>\n",
       "      <td>2</td>\n",
       "      <td>1756</td>\n",
       "      <td>0.000712</td>\n",
       "      <td>PC9-DS9</td>\n",
       "    </tr>\n",
       "    <tr>\n",
       "      <td>3</td>\n",
       "      <td>1757</td>\n",
       "      <td>0.000925</td>\n",
       "      <td>PC9-DS9</td>\n",
       "    </tr>\n",
       "    <tr>\n",
       "      <td>4</td>\n",
       "      <td>1758</td>\n",
       "      <td>0.002995</td>\n",
       "      <td>PC9-DS9</td>\n",
       "    </tr>\n",
       "  </tbody>\n",
       "</table>\n",
       "</div>"
      ],
      "text/plain": [
       "   Unnamed: 0  DIP_Rate Cell_Line\n",
       "0        1754  0.000568   PC9-DS9\n",
       "1        1755 -0.001808   PC9-DS9\n",
       "2        1756  0.000712   PC9-DS9\n",
       "3        1757  0.000925   PC9-DS9\n",
       "4        1758  0.002995   PC9-DS9"
      ]
     },
     "execution_count": 12,
     "metadata": {},
     "output_type": "execute_result"
    }
   ],
   "source": [
    "cFP_rates = pd.read_csv(\"cFP_rates_VUlines.csv\")\n",
    "cell_lines = ['PC9-DS1', 'PC9-DS3', 'PC9-DS4', 'PC9-DS7', 'PC9-DS6', 'PC9-DS9', 'PC9-DS8']\n",
    "cFP_rates.head()"
   ]
  },
  {
   "cell_type": "code",
   "execution_count": 4,
   "metadata": {},
   "outputs": [
    {
     "data": {
      "text/html": [
       "<div>\n",
       "<style scoped>\n",
       "    .dataframe tbody tr th:only-of-type {\n",
       "        vertical-align: middle;\n",
       "    }\n",
       "\n",
       "    .dataframe tbody tr th {\n",
       "        vertical-align: top;\n",
       "    }\n",
       "\n",
       "    .dataframe thead th {\n",
       "        text-align: right;\n",
       "    }\n",
       "</style>\n",
       "<table border=\"1\" class=\"dataframe\">\n",
       "  <thead>\n",
       "    <tr style=\"text-align: right;\">\n",
       "      <th></th>\n",
       "      <th>DS3</th>\n",
       "      <th>DS4</th>\n",
       "    </tr>\n",
       "  </thead>\n",
       "  <tbody>\n",
       "    <tr>\n",
       "      <td>0</td>\n",
       "      <td>0.000280</td>\n",
       "      <td>0.002945</td>\n",
       "    </tr>\n",
       "    <tr>\n",
       "      <td>1</td>\n",
       "      <td>-0.000193</td>\n",
       "      <td>0.003351</td>\n",
       "    </tr>\n",
       "    <tr>\n",
       "      <td>2</td>\n",
       "      <td>-0.008735</td>\n",
       "      <td>0.003058</td>\n",
       "    </tr>\n",
       "    <tr>\n",
       "      <td>3</td>\n",
       "      <td>0.000986</td>\n",
       "      <td>0.006027</td>\n",
       "    </tr>\n",
       "    <tr>\n",
       "      <td>4</td>\n",
       "      <td>-0.003616</td>\n",
       "      <td>0.005238</td>\n",
       "    </tr>\n",
       "  </tbody>\n",
       "</table>\n",
       "</div>"
      ],
      "text/plain": [
       "        DS3       DS4\n",
       "0  0.000280  0.002945\n",
       "1 -0.000193  0.003351\n",
       "2 -0.008735  0.003058\n",
       "3  0.000986  0.006027\n",
       "4 -0.003616  0.005238"
      ]
     },
     "execution_count": 4,
     "metadata": {},
     "output_type": "execute_result"
    }
   ],
   "source": [
    "distributions = pd.read_csv(\"distributions.csv\")\n",
    "distributions_DS3_4 = distributions[['DS3', 'DS4']]\n",
    "distributions_DS3_4.head()"
   ]
  },
  {
   "cell_type": "code",
   "execution_count": 17,
   "metadata": {},
   "outputs": [
    {
     "data": {
      "text/plain": [
       "0    0.887569\n",
       "Name: DS1, dtype: float64"
      ]
     },
     "execution_count": 17,
     "metadata": {},
     "output_type": "execute_result"
    }
   ],
   "source": [
    "pvals = pd.read_csv(\"pvalues.csv\")\n"
   ]
  },
  {
   "cell_type": "code",
   "execution_count": 23,
   "metadata": {},
   "outputs": [
    {
     "name": "stderr",
     "output_type": "stream",
     "text": [
      "/Users/Corey/anaconda2/envs/py36/lib/python3.6/site-packages/statsmodels/nonparametric/kde.py:454: RuntimeWarning: invalid value encountered in greater\n",
      "  X = X[np.logical_and(X>clip[0], X<clip[1])] # won't work for two columns.\n",
      "/Users/Corey/anaconda2/envs/py36/lib/python3.6/site-packages/statsmodels/nonparametric/kde.py:454: RuntimeWarning: invalid value encountered in less\n",
      "  X = X[np.logical_and(X>clip[0], X<clip[1])] # won't work for two columns.\n",
      "/Users/Corey/anaconda2/envs/py36/lib/python3.6/site-packages/scipy/stats/stats.py:1633: FutureWarning: Using a non-tuple sequence for multidimensional indexing is deprecated; use `arr[tuple(seq)]` instead of `arr[seq]`. In the future this will be interpreted as an array index, `arr[np.array(seq)]`, which will result either in an error or a different result.\n",
      "  return np.add.reduce(sorted[indexer] * weights, axis=axis) / sumval\n"
     ]
    },
    {
     "data": {
      "image/png": "[encoded data removed]",
      "text/plain": [
       "<matplotlib.figure.Figure at 0x10e7b2c18>"
      ]
     },
     "metadata": {},
     "output_type": "display_data"
    }
   ],
   "source": [
    "dat_DS3 = cFP_rates[cFP_rates['Cell_Line'] == 'PC9-DS3']\n",
    "\n",
    "plt.figure(figsize=[5,4])\n",
    "sns.distplot(distributions_DS3_4['DS3'], kde = True, hist= False, color = \"brown\", kde_kws={\"shade\": True})\n",
    "sns.distplot(dat_DS3['DIP_Rate'], kde = True, hist= False, color = \"grey\", kde_kws={\"shade\": True})\n",
    "\n",
    "plt.xlabel(\"DIP Rate\")\n",
    "plt.ylabel(\"Density\")\n",
    "plt.text(0.01, 150, \"p=%.3f\" % round(pvals['DS3'], 3), fontsize = 14)\n",
    "\n",
    "plt.xlim(-0.025, 0.025)\n",
    "plt.ylim(0,200)\n",
    "plt.legend(labels=['Simulated','Experimental'], loc = 'upper left')\n",
    "plt.savefig(\"DS3_DIPdist_forPaper.pdf\")\n",
    "plt.show()"
   ]
  },
  {
   "cell_type": "code",
   "execution_count": 22,
   "metadata": {},
   "outputs": [
    {
     "name": "stderr",
     "output_type": "stream",
     "text": [
      "/Users/Corey/anaconda2/envs/py36/lib/python3.6/site-packages/statsmodels/nonparametric/kde.py:454: RuntimeWarning: invalid value encountered in greater\n",
      "  X = X[np.logical_and(X>clip[0], X<clip[1])] # won't work for two columns.\n",
      "/Users/Corey/anaconda2/envs/py36/lib/python3.6/site-packages/statsmodels/nonparametric/kde.py:454: RuntimeWarning: invalid value encountered in less\n",
      "  X = X[np.logical_and(X>clip[0], X<clip[1])] # won't work for two columns.\n",
      "/Users/Corey/anaconda2/envs/py36/lib/python3.6/site-packages/scipy/stats/stats.py:1633: FutureWarning: Using a non-tuple sequence for multidimensional indexing is deprecated; use `arr[tuple(seq)]` instead of `arr[seq]`. In the future this will be interpreted as an array index, `arr[np.array(seq)]`, which will result either in an error or a different result.\n",
      "  return np.add.reduce(sorted[indexer] * weights, axis=axis) / sumval\n"
     ]
    },
    {
     "data": {
      "image/png": "[encoded data removed]",
      "text/plain": [
       "<matplotlib.figure.Figure at 0x1a211ff278>"
      ]
     },
     "metadata": {},
     "output_type": "display_data"
    }
   ],
   "source": [
    "dat_DS4 = cFP_rates[cFP_rates['Cell_Line'] == 'PC9-DS4']\n",
    "\n",
    "plt.figure(figsize=[5,4])\n",
    "sns.distplot(distributions_DS3_4['DS4'], kde = True, hist= False, color = \"deepskyblue\", kde_kws={\"shade\": True})\n",
    "sns.distplot(dat_DS4['DIP_Rate'], kde = True, hist= False, color = \"grey\", kde_kws={\"shade\": True})\n",
    "\n",
    "plt.xlabel(\"DIP Rate\")\n",
    "plt.ylabel(\"Density\")\n",
    "plt.text(0.01, 150, \"p=%.3f\" % round(pvals['DS4'], 3), fontsize = 14)\n",
    "\n",
    "plt.xlim(-0.025, 0.025)\n",
    "plt.ylim(0,200)\n",
    "plt.legend(labels=['Simulated','Experimental'], loc = 'upper left')\n",
    "plt.savefig(\"DS4_DIPdist_forPaper.pdf\")\n",
    "plt.show()\n"
   ]
  },
  {
   "cell_type": "code",
   "execution_count": null,
   "metadata": {},
   "outputs": [],
   "source": []
  }
 ],
 "metadata": {
  "kernelspec": {
   "display_name": "py36",
   "language": "python",
   "name": "py36"
  },
  "language_info": {
   "codemirror_mode": {
    "name": "ipython",
    "version": 3
   },
   "file_extension": ".py",
   "mimetype": "text/x-python",
   "name": "python",
   "nbconvert_exporter": "python",
   "pygments_lexer": "ipython3",
   "version": "3.6.2"
  }
 },
 "nbformat": 4,
 "nbformat_minor": 2
}
