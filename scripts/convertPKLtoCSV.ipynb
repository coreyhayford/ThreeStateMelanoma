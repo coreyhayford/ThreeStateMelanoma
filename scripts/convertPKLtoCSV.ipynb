{
 "cells": [
  {
   "cell_type": "code",
   "execution_count": 5,
   "metadata": {},
   "outputs": [],
   "source": [
    "import pandas as pd\n",
    "import numpy as np"
   ]
  },
  {
   "cell_type": "code",
   "execution_count": 2,
   "metadata": {},
   "outputs": [
    {
     "data": {
      "text/plain": [
       "'0.25.1'"
      ]
     },
     "execution_count": 2,
     "metadata": {},
     "output_type": "execute_result"
    }
   ],
   "source": [
    "pd.__version__"
   ]
  },
  {
   "cell_type": "code",
   "execution_count": 3,
   "metadata": {},
   "outputs": [
    {
     "name": "stdout",
     "output_type": "stream",
     "text": [
      "3.6.2\n"
     ]
    }
   ],
   "source": [
    "from platform import python_version\n",
    "print(python_version())"
   ]
  },
  {
   "cell_type": "code",
   "execution_count": 24,
   "metadata": {},
   "outputs": [
    {
     "name": "stdout",
     "output_type": "stream",
     "text": [
      "                             DIP rate   division rate  \\\n",
      "0                    [0.0005, 0.0055]  [0.021, 0.021]   \n",
      "1      [0.0005, 0.005699999999999999]  [0.021, 0.021]   \n",
      "2                    [0.0005, 0.0059]  [0.021, 0.021]   \n",
      "3     [0.0005, 0.0060999999999999995]  [0.021, 0.021]   \n",
      "4                    [0.0005, 0.0063]  [0.021, 0.021]   \n",
      "...                               ...             ...   \n",
      "1645   [0.0015, 0.006699999999999999]  [0.025, 0.025]   \n",
      "1646                 [0.0015, 0.0069]  [0.025, 0.025]   \n",
      "1647  [0.0015, 0.0070999999999999995]  [0.025, 0.025]   \n",
      "1648                 [0.0015, 0.0073]  [0.025, 0.025]   \n",
      "1649                 [0.0015, 0.0075]  [0.025, 0.025]   \n",
      "\n",
      "                          death rate   p-value cell.line  \n",
      "0     [0.0205, 0.015500000000000002]  0.000340   PC9.DS8  \n",
      "1     [0.0205, 0.015300000000000001]  0.001276   PC9.DS8  \n",
      "2     [0.0205, 0.015100000000000002]  0.000047   PC9.DS8  \n",
      "3     [0.0205, 0.014900000000000002]  0.002500   PC9.DS8  \n",
      "4     [0.0205, 0.014700000000000001]  0.000068   PC9.DS8  \n",
      "...                              ...       ...       ...  \n",
      "1645  [0.0235, 0.018300000000000004]  0.000201   PC9.DS8  \n",
      "1646                [0.0235, 0.0181]  0.001586   PC9.DS8  \n",
      "1647  [0.0235, 0.017900000000000003]  0.000130   PC9.DS8  \n",
      "1648                [0.0235, 0.0177]  0.000013   PC9.DS8  \n",
      "1649                [0.0235, 0.0175]  0.000267   PC9.DS8  \n",
      "\n",
      "[1650 rows x 5 columns]\n",
      "<class 'pandas.core.frame.DataFrame'>\n"
     ]
    }
   ],
   "source": [
    "df_DS8_low = pd.read_pickle('PC9-DS8_param-scan_twoState_lowDivsMoreDIP.pkl')\n",
    "df_DS8_lowMed = pd.read_pickle('PC9-DS8_param-scan_twoState_lowMedDivsMoreDIP.pkl')\n",
    "df_DS8_medHigh = pd.read_pickle('PC9-DS8_param-scan_twoState_medHighDivsMoreDIP.pkl')\n",
    "df_DS8_high = pd.read_pickle('PC9-DS8_param-scan_twoState_highDivsMoreDIP.pkl')\n",
    "\n",
    "# df_DS8 = pd.concat([df_DS8_low, df_DS8_lowMed, df_DS8_medHigh, df_DS8_high])\n",
    "\n",
    "# df_DS8 = df_DS8.round({'death rate': 5, 'division rate': 5, 'DIP rate': 5})\n",
    "df_DS8_low['cell.line'] = 'PC9.DS8'\n",
    "df_DS8_lowMed['cell.line'] = 'PC9.DS8'\n",
    "df_DS8_medHigh['cell.line'] = 'PC9.DS8'\n",
    "df_DS8_high['cell.line'] = 'PC9.DS8'\n",
    "\n",
    "print(df_DS8_low)\n",
    "print(type(df_DS8_low))\n",
    "\n"
   ]
  },
  {
   "cell_type": "code",
   "execution_count": 29,
   "metadata": {},
   "outputs": [
    {
     "name": "stdout",
     "output_type": "stream",
     "text": [
      "        DIP1    DIP2\n",
      "0     0.0005  0.0055\n",
      "1     0.0005  0.0057\n",
      "2     0.0005  0.0059\n",
      "3     0.0005  0.0061\n",
      "4     0.0005  0.0063\n",
      "...      ...     ...\n",
      "1645  0.0015  0.0067\n",
      "1646  0.0015  0.0069\n",
      "1647  0.0015  0.0071\n",
      "1648  0.0015  0.0073\n",
      "1649  0.0015  0.0075\n",
      "\n",
      "[1650 rows x 2 columns]\n",
      "       div1   div2\n",
      "0     0.021  0.021\n",
      "1     0.021  0.021\n",
      "2     0.021  0.021\n",
      "3     0.021  0.021\n",
      "4     0.021  0.021\n",
      "...     ...    ...\n",
      "1645  0.025  0.025\n",
      "1646  0.025  0.025\n",
      "1647  0.025  0.025\n",
      "1648  0.025  0.025\n",
      "1649  0.025  0.025\n",
      "\n",
      "[1650 rows x 2 columns]\n",
      "        dth1    dth2\n",
      "0     0.0205  0.0155\n",
      "1     0.0205  0.0153\n",
      "2     0.0205  0.0151\n",
      "3     0.0205  0.0149\n",
      "4     0.0205  0.0147\n",
      "...      ...     ...\n",
      "1645  0.0235  0.0183\n",
      "1646  0.0235  0.0181\n",
      "1647  0.0235  0.0179\n",
      "1648  0.0235  0.0177\n",
      "1649  0.0235  0.0175\n",
      "\n",
      "[1650 rows x 2 columns]\n",
      "       p-value cell.line\n",
      "0     0.000340   PC9.DS8\n",
      "1     0.001276   PC9.DS8\n",
      "2     0.000047   PC9.DS8\n",
      "3     0.002500   PC9.DS8\n",
      "4     0.000068   PC9.DS8\n",
      "...        ...       ...\n",
      "1645  0.000201   PC9.DS8\n",
      "1646  0.001586   PC9.DS8\n",
      "1647  0.000130   PC9.DS8\n",
      "1648  0.000013   PC9.DS8\n",
      "1649  0.000267   PC9.DS8\n",
      "\n",
      "[1650 rows x 2 columns]\n"
     ]
    }
   ],
   "source": [
    "DS8_dipdf_low = pd.DataFrame(df_DS8_low['DIP rate'].values.tolist(), columns=['DIP1','DIP2'])\n",
    "DS8_divdf_low = pd.DataFrame(df_DS8_low['division rate'].values.tolist(), columns=['div1','div2'])\n",
    "DS8_dthdf_low = pd.DataFrame(df_DS8_low['death rate'].values.tolist(), columns=['dth1','dth2'])\n",
    "DS8_rest_low = df_DS8_low[['p-value', 'cell.line']]\n",
    "DS8_rest_low.reset_index(drop=True)\n",
    "\n",
    "DS8_dipdf_lowMed = pd.DataFrame(df_DS8_lowMed['DIP rate'].values.tolist(), columns=['DIP1','DIP2'])\n",
    "DS8_divdf_lowMed = pd.DataFrame(df_DS8_lowMed['division rate'].values.tolist(), columns=['div1','div2'])\n",
    "DS8_dthdf_lowMed = pd.DataFrame(df_DS8_lowMed['death rate'].values.tolist(), columns=['dth1','dth2'])\n",
    "DS8_rest_lowMed = df_DS8_lowMed[['p-value', 'cell.line']]\n",
    "DS8_rest_lowMed.reset_index(drop=True)\n",
    "\n",
    "DS8_dipdf_medHigh = pd.DataFrame(df_DS8_medHigh['DIP rate'].values.tolist(), columns=['DIP1','DIP2'])\n",
    "DS8_divdf_medHigh = pd.DataFrame(df_DS8_medHigh['division rate'].values.tolist(), columns=['div1','div2'])\n",
    "DS8_dthdf_medHigh = pd.DataFrame(df_DS8_medHigh['death rate'].values.tolist(), columns=['dth1','dth2'])\n",
    "DS8_rest_medHigh = df_DS8_medHigh[['p-value', 'cell.line']]\n",
    "DS8_rest_medHigh.reset_index(drop=True)\n",
    "\n",
    "DS8_dipdf_high = pd.DataFrame(df_DS8_high['DIP rate'].values.tolist(), columns=['DIP1','DIP2'])\n",
    "DS8_divdf_high = pd.DataFrame(df_DS8_high['division rate'].values.tolist(), columns=['div1','div2'])\n",
    "DS8_dthdf_high = pd.DataFrame(df_DS8_high['death rate'].values.tolist(), columns=['dth1','dth2'])\n",
    "DS8_rest_high = df_DS8_high[['p-value', 'cell.line']]\n",
    "DS8_rest_high.reset_index(drop=True)\n",
    "\n",
    "print(DS8_dipdf_low)\n",
    "print(DS8_divdf_low)\n",
    "print(DS8_dthdf_low)\n",
    "print(DS8_rest_low)\n",
    "\n",
    "DS8_dipdf_low.to_csv(\"DS8_twoState_lowDiv_dips.csv\")\n",
    "DS8_divdf_low.to_csv(\"DS8_twoState_lowDiv_divs.csv\")\n",
    "DS8_dthdf_low.to_csv(\"DS8_twoState_lowDiv_dths.csv\")\n",
    "DS8_rest_low.to_csv(\"DS8_twoState_lowDiv_rest.csv\")\n"
   ]
  },
  {
   "cell_type": "code",
   "execution_count": 48,
   "metadata": {},
   "outputs": [
    {
     "name": "stdout",
     "output_type": "stream",
     "text": [
      "       p-value cell.line    DIP1    DIP2   div1   div2    dth1    dth2\n",
      "0     0.000340   PC9.DS8  0.0005  0.0055  0.021  0.021  0.0205  0.0155\n",
      "1     0.001276   PC9.DS8  0.0005  0.0057  0.021  0.021  0.0205  0.0153\n",
      "2     0.000047   PC9.DS8  0.0005  0.0059  0.021  0.021  0.0205  0.0151\n",
      "3     0.002500   PC9.DS8  0.0005  0.0061  0.021  0.021  0.0205  0.0149\n",
      "4     0.000068   PC9.DS8  0.0005  0.0063  0.021  0.021  0.0205  0.0147\n",
      "...        ...       ...     ...     ...    ...    ...     ...     ...\n",
      "1645  0.000201   PC9.DS8  0.0015  0.0067  0.025  0.025  0.0235  0.0183\n",
      "1646  0.001586   PC9.DS8  0.0015  0.0069  0.025  0.025  0.0235  0.0181\n",
      "1647  0.000130   PC9.DS8  0.0015  0.0071  0.025  0.025  0.0235  0.0179\n",
      "1648  0.000013   PC9.DS8  0.0015  0.0073  0.025  0.025  0.0235  0.0177\n",
      "1649  0.000267   PC9.DS8  0.0015  0.0075  0.025  0.025  0.0235  0.0175\n",
      "\n",
      "[1650 rows x 8 columns]\n",
      "       p-value cell.line    DIP1    DIP2   div1   div2    dth1    dth2\n",
      "0     0.000098   PC9.DS8  0.0005  0.0055  0.026  0.026  0.0255  0.0205\n",
      "1     0.000117   PC9.DS8  0.0005  0.0057  0.026  0.026  0.0255  0.0203\n",
      "2     0.000111   PC9.DS8  0.0005  0.0059  0.026  0.026  0.0255  0.0201\n",
      "3     0.000162   PC9.DS8  0.0005  0.0061  0.026  0.026  0.0255  0.0199\n",
      "4     0.002913   PC9.DS8  0.0005  0.0063  0.026  0.026  0.0255  0.0197\n",
      "...        ...       ...     ...     ...    ...    ...     ...     ...\n",
      "1645  0.002269   PC9.DS8  0.0015  0.0067  0.030  0.030  0.0285  0.0233\n",
      "1646  0.000181   PC9.DS8  0.0015  0.0069  0.030  0.030  0.0285  0.0231\n",
      "1647  0.000107   PC9.DS8  0.0015  0.0071  0.030  0.030  0.0285  0.0229\n",
      "1648  0.000087   PC9.DS8  0.0015  0.0073  0.030  0.030  0.0285  0.0227\n",
      "1649  0.002583   PC9.DS8  0.0015  0.0075  0.030  0.030  0.0285  0.0225\n",
      "\n",
      "[1650 rows x 8 columns]\n",
      "       p-value cell.line    DIP1    DIP2   div1   div2    dth1    dth2\n",
      "0     0.000228   PC9.DS8  0.0005  0.0055  0.031  0.031  0.0305  0.0255\n",
      "1     0.000035   PC9.DS8  0.0005  0.0057  0.031  0.031  0.0305  0.0253\n",
      "2     0.000002   PC9.DS8  0.0005  0.0059  0.031  0.031  0.0305  0.0251\n",
      "3     0.002149   PC9.DS8  0.0005  0.0061  0.031  0.031  0.0305  0.0249\n",
      "4     0.006543   PC9.DS8  0.0005  0.0063  0.031  0.031  0.0305  0.0247\n",
      "...        ...       ...     ...     ...    ...    ...     ...     ...\n",
      "1645  0.001597   PC9.DS8  0.0015  0.0067  0.035  0.035  0.0335  0.0283\n",
      "1646  0.002337   PC9.DS8  0.0015  0.0069  0.035  0.035  0.0335  0.0281\n",
      "1647  0.003386   PC9.DS8  0.0015  0.0071  0.035  0.035  0.0335  0.0279\n",
      "1648  0.012082   PC9.DS8  0.0015  0.0073  0.035  0.035  0.0335  0.0277\n",
      "1649  0.005198   PC9.DS8  0.0015  0.0075  0.035  0.035  0.0335  0.0275\n",
      "\n",
      "[1650 rows x 8 columns]\n",
      "       p-value cell.line    DIP1    DIP2   div1   div2    dth1    dth2\n",
      "0     0.009006   PC9.DS8  0.0005  0.0055  0.036  0.036  0.0355  0.0305\n",
      "1     0.000773   PC9.DS8  0.0005  0.0057  0.036  0.036  0.0355  0.0303\n",
      "2     0.003575   PC9.DS8  0.0005  0.0059  0.036  0.036  0.0355  0.0301\n",
      "3     0.000343   PC9.DS8  0.0005  0.0061  0.036  0.036  0.0355  0.0299\n",
      "4     0.001701   PC9.DS8  0.0005  0.0063  0.036  0.036  0.0355  0.0297\n",
      "...        ...       ...     ...     ...    ...    ...     ...     ...\n",
      "1645  0.000310   PC9.DS8  0.0015  0.0067  0.040  0.040  0.0385  0.0333\n",
      "1646  0.008578   PC9.DS8  0.0015  0.0069  0.040  0.040  0.0385  0.0331\n",
      "1647  0.009978   PC9.DS8  0.0015  0.0071  0.040  0.040  0.0385  0.0329\n",
      "1648  0.001288   PC9.DS8  0.0015  0.0073  0.040  0.040  0.0385  0.0327\n",
      "1649  0.000018   PC9.DS8  0.0015  0.0075  0.040  0.040  0.0385  0.0325\n",
      "\n",
      "[1650 rows x 8 columns]\n"
     ]
    }
   ],
   "source": [
    "DS8_low = pd.concat([DS8_rest_low.reset_index(drop=True), \n",
    "                     DS8_dipdf_low.reset_index(drop=True), \n",
    "                     DS8_divdf_low.reset_index(drop=True),\n",
    "                     DS8_dthdf_low], axis = 1)\n",
    "\n",
    "DS8_lowMed = pd.concat([DS8_rest_lowMed.reset_index(drop=True), \n",
    "                     DS8_dipdf_lowMed.reset_index(drop=True), \n",
    "                     DS8_divdf_lowMed.reset_index(drop=True),\n",
    "                     DS8_dthdf_lowMed], axis = 1)\n",
    "\n",
    "DS8_medHigh = pd.concat([DS8_rest_medHigh.reset_index(drop=True), \n",
    "                     DS8_dipdf_medHigh.reset_index(drop=True), \n",
    "                     DS8_divdf_medHigh.reset_index(drop=True),\n",
    "                     DS8_dthdf_medHigh], axis = 1)\n",
    "\n",
    "DS8_high = pd.concat([DS8_rest_high.reset_index(drop=True), \n",
    "                     DS8_dipdf_high.reset_index(drop=True), \n",
    "                     DS8_divdf_high.reset_index(drop=True),\n",
    "                     DS8_dthdf_high], axis = 1)\n",
    "print(DS8_low)\n",
    "print(DS8_lowMed)\n",
    "print(DS8_medHigh)\n",
    "print(DS8_high)\n",
    "\n",
    "# DS8_low.to_csv(\"DS8_twoState_lowDivs.csv\")\n",
    "# DS8_lowMed.to_csv(\"DS8_twoState_lowMedDivs.csv\")\n",
    "# DS8_medHigh.to_csv(\"DS8_twoState_medHighDivs.csv\")\n",
    "# DS8_high.to_csv(\"DS8_twoState_highDivs.csv\")\n"
   ]
  },
  {
   "cell_type": "code",
   "execution_count": 50,
   "metadata": {},
   "outputs": [
    {
     "name": "stdout",
     "output_type": "stream",
     "text": [
      "       p-value cell.line    DIP1    DIP2   div1   div2    dth1    dth2\n",
      "0     0.000340   PC9.DS8  0.0005  0.0055  0.021  0.021  0.0205  0.0155\n",
      "1     0.001276   PC9.DS8  0.0005  0.0057  0.021  0.021  0.0205  0.0153\n",
      "2     0.000047   PC9.DS8  0.0005  0.0059  0.021  0.021  0.0205  0.0151\n",
      "3     0.002500   PC9.DS8  0.0005  0.0061  0.021  0.021  0.0205  0.0149\n",
      "4     0.000068   PC9.DS8  0.0005  0.0063  0.021  0.021  0.0205  0.0147\n",
      "...        ...       ...     ...     ...    ...    ...     ...     ...\n",
      "6595  0.000310   PC9.DS8  0.0015  0.0067  0.040  0.040  0.0385  0.0333\n",
      "6596  0.008578   PC9.DS8  0.0015  0.0069  0.040  0.040  0.0385  0.0331\n",
      "6597  0.009978   PC9.DS8  0.0015  0.0071  0.040  0.040  0.0385  0.0329\n",
      "6598  0.001288   PC9.DS8  0.0015  0.0073  0.040  0.040  0.0385  0.0327\n",
      "6599  0.000018   PC9.DS8  0.0015  0.0075  0.040  0.040  0.0385  0.0325\n",
      "\n",
      "[6600 rows x 8 columns]\n"
     ]
    }
   ],
   "source": [
    "DS8_all = pd.concat([DS8_low, DS8_lowMed,\n",
    "                      DS8_medHigh, DS8_high], ignore_index = True)\n",
    "\n",
    "print(DS8_all)\n",
    "DS8_all.to_csv('DS8_all.csv')\n",
    "\n",
    "DS8 = DS8_all"
   ]
  },
  {
   "cell_type": "code",
   "execution_count": 51,
   "metadata": {},
   "outputs": [
    {
     "data": {
      "text/plain": [
       "(6600, 10)"
      ]
     },
     "execution_count": 51,
     "metadata": {},
     "output_type": "execute_result"
    }
   ],
   "source": [
    "DS8_wholeRange = pd.read_csv(\"DS8_wholeRange.csv\")\n",
    "np.shape(DS8_wholeRange)"
   ]
  },
  {
   "cell_type": "code",
   "execution_count": 52,
   "metadata": {},
   "outputs": [
    {
     "name": "stdout",
     "output_type": "stream",
     "text": [
      "       p-value     cell.line    DIP1    DIP2   div1   div2    dth1    dth2  \\\n",
      "0     0.000340  not.assigned  0.0005  0.0055  0.021  0.021  0.0205  0.0155   \n",
      "1     0.001276  not.assigned  0.0005  0.0057  0.021  0.021  0.0205  0.0153   \n",
      "2     0.000047  not.assigned  0.0005  0.0059  0.021  0.021  0.0205  0.0151   \n",
      "3     0.002500  not.assigned  0.0005  0.0061  0.021  0.021  0.0205  0.0149   \n",
      "4     0.000068  not.assigned  0.0005  0.0063  0.021  0.021  0.0205  0.0147   \n",
      "...        ...           ...     ...     ...    ...    ...     ...     ...   \n",
      "6595  0.000310  not.assigned  0.0015  0.0067  0.040  0.040  0.0385  0.0333   \n",
      "6596  0.008578  not.assigned  0.0015  0.0069  0.040  0.040  0.0385  0.0331   \n",
      "6597  0.009978  not.assigned  0.0015  0.0071  0.040  0.040  0.0385  0.0329   \n",
      "6598  0.001288  not.assigned  0.0015  0.0073  0.040  0.040  0.0385  0.0327   \n",
      "6599  0.000018  not.assigned  0.0015  0.0075  0.040  0.040  0.0385  0.0325   \n",
      "\n",
      "      param.pair  \n",
      "0              0  \n",
      "1              1  \n",
      "2              2  \n",
      "3              3  \n",
      "4              4  \n",
      "...          ...  \n",
      "6595        6595  \n",
      "6596        6596  \n",
      "6597        6597  \n",
      "6598        6598  \n",
      "6599        6599  \n",
      "\n",
      "[6600 rows x 9 columns]\n"
     ]
    }
   ],
   "source": [
    "DS8['cell.line'] = np.where(DS8['p-value']>0.1, 'PC9-DS8', 'not.assigned')\n",
    "DS8['param.pair'] = range(DS8.shape[0])\n",
    "print(DS8)\n"
   ]
  },
  {
   "cell_type": "code",
   "execution_count": 53,
   "metadata": {},
   "outputs": [
    {
     "name": "stdout",
     "output_type": "stream",
     "text": [
      "       p-value     cell.line  DIP Rate  Division Rate  Death Rate  param.pair\n",
      "0     0.000340  not.assigned    0.0005          0.021      0.0205           0\n",
      "1     0.001276  not.assigned    0.0005          0.021      0.0205           1\n",
      "2     0.000047  not.assigned    0.0005          0.021      0.0205           2\n",
      "3     0.002500  not.assigned    0.0005          0.021      0.0205           3\n",
      "4     0.000068  not.assigned    0.0005          0.021      0.0205           4\n",
      "...        ...           ...       ...            ...         ...         ...\n",
      "6595  0.000310  not.assigned    0.0015          0.040      0.0385        6595\n",
      "6596  0.008578  not.assigned    0.0015          0.040      0.0385        6596\n",
      "6597  0.009978  not.assigned    0.0015          0.040      0.0385        6597\n",
      "6598  0.001288  not.assigned    0.0015          0.040      0.0385        6598\n",
      "6599  0.000018  not.assigned    0.0015          0.040      0.0385        6599\n",
      "\n",
      "[6600 rows x 6 columns]\n",
      "       p-value     cell.line  DIP Rate  Division Rate  Death Rate  param.pair\n",
      "0     0.000340  not.assigned    0.0055          0.021      0.0155           0\n",
      "1     0.001276  not.assigned    0.0057          0.021      0.0153           1\n",
      "2     0.000047  not.assigned    0.0059          0.021      0.0151           2\n",
      "3     0.002500  not.assigned    0.0061          0.021      0.0149           3\n",
      "4     0.000068  not.assigned    0.0063          0.021      0.0147           4\n",
      "...        ...           ...       ...            ...         ...         ...\n",
      "6595  0.000310  not.assigned    0.0067          0.040      0.0333        6595\n",
      "6596  0.008578  not.assigned    0.0069          0.040      0.0331        6596\n",
      "6597  0.009978  not.assigned    0.0071          0.040      0.0329        6597\n",
      "6598  0.001288  not.assigned    0.0073          0.040      0.0327        6598\n",
      "6599  0.000018  not.assigned    0.0075          0.040      0.0325        6599\n",
      "\n",
      "[6600 rows x 6 columns]\n"
     ]
    },
    {
     "name": "stderr",
     "output_type": "stream",
     "text": [
      "/Users/Corey/anaconda2/envs/py36/lib/python3.6/site-packages/pandas/core/frame.py:4223: SettingWithCopyWarning: \n",
      "A value is trying to be set on a copy of a slice from a DataFrame\n",
      "\n",
      "See the caveats in the documentation: http://pandas.pydata.org/pandas-docs/stable/user_guide/indexing.html#returning-a-view-versus-a-copy\n",
      "  return super().rename(**kwargs)\n"
     ]
    }
   ],
   "source": [
    "DS8_sig1 = DS8[['p-value', 'cell.line', 'DIP1', 'div1', 'dth1', 'param.pair']]\n",
    "DS8_sig2 = DS8[['p-value', 'cell.line', 'DIP2', 'div2', 'dth2', 'param.pair']]\n",
    "\n",
    "DS8_sig1.rename(columns={'DIP1': 'DIP Rate',\n",
    "                         'div1': 'Division Rate',\n",
    "                         'dth1': 'Death Rate'},\n",
    "                 inplace=True)\n",
    "DS8_sig2.rename(columns={'DIP2': 'DIP Rate',\n",
    "                         'div2': 'Division Rate',\n",
    "                         'dth2': 'Death Rate'},\n",
    "                inplace=True)\n",
    "\n",
    "print(DS8_sig1)\n",
    "print(DS8_sig2)"
   ]
  },
  {
   "cell_type": "code",
   "execution_count": 54,
   "metadata": {},
   "outputs": [
    {
     "name": "stdout",
     "output_type": "stream",
     "text": [
      "       p-value     cell.line  DIP Rate  Division Rate  Death Rate  param.pair  \\\n",
      "0     0.000340  not.assigned    0.0005          0.021      0.0205           0   \n",
      "1     0.001276  not.assigned    0.0005          0.021      0.0205           1   \n",
      "2     0.000047  not.assigned    0.0005          0.021      0.0205           2   \n",
      "3     0.002500  not.assigned    0.0005          0.021      0.0205           3   \n",
      "4     0.000068  not.assigned    0.0005          0.021      0.0205           4   \n",
      "...        ...           ...       ...            ...         ...         ...   \n",
      "6595  0.000310  not.assigned    0.0015          0.040      0.0385        6595   \n",
      "6596  0.008578  not.assigned    0.0015          0.040      0.0385        6596   \n",
      "6597  0.009978  not.assigned    0.0015          0.040      0.0385        6597   \n",
      "6598  0.001288  not.assigned    0.0015          0.040      0.0385        6598   \n",
      "6599  0.000018  not.assigned    0.0015          0.040      0.0385        6599   \n",
      "\n",
      "         Cell Line  \n",
      "0     not.assigned  \n",
      "1     not.assigned  \n",
      "2     not.assigned  \n",
      "3     not.assigned  \n",
      "4     not.assigned  \n",
      "...            ...  \n",
      "6595  not.assigned  \n",
      "6596  not.assigned  \n",
      "6597  not.assigned  \n",
      "6598  not.assigned  \n",
      "6599  not.assigned  \n",
      "\n",
      "[6600 rows x 7 columns]\n",
      "       p-value     cell.line  DIP Rate  Division Rate  Death Rate  param.pair  \\\n",
      "0     0.000340  not.assigned    0.0055          0.021      0.0155           0   \n",
      "1     0.001276  not.assigned    0.0057          0.021      0.0153           1   \n",
      "2     0.000047  not.assigned    0.0059          0.021      0.0151           2   \n",
      "3     0.002500  not.assigned    0.0061          0.021      0.0149           3   \n",
      "4     0.000068  not.assigned    0.0063          0.021      0.0147           4   \n",
      "...        ...           ...       ...            ...         ...         ...   \n",
      "6595  0.000310  not.assigned    0.0067          0.040      0.0333        6595   \n",
      "6596  0.008578  not.assigned    0.0069          0.040      0.0331        6596   \n",
      "6597  0.009978  not.assigned    0.0071          0.040      0.0329        6597   \n",
      "6598  0.001288  not.assigned    0.0073          0.040      0.0327        6598   \n",
      "6599  0.000018  not.assigned    0.0075          0.040      0.0325        6599   \n",
      "\n",
      "         Cell Line  \n",
      "0     not.assigned  \n",
      "1     not.assigned  \n",
      "2     not.assigned  \n",
      "3     not.assigned  \n",
      "4     not.assigned  \n",
      "...            ...  \n",
      "6595  not.assigned  \n",
      "6596  not.assigned  \n",
      "6597  not.assigned  \n",
      "6598  not.assigned  \n",
      "6599  not.assigned  \n",
      "\n",
      "[6600 rows x 7 columns]\n"
     ]
    },
    {
     "name": "stderr",
     "output_type": "stream",
     "text": [
      "/Users/Corey/anaconda2/envs/py36/lib/python3.6/site-packages/ipykernel_launcher.py:1: SettingWithCopyWarning: \n",
      "A value is trying to be set on a copy of a slice from a DataFrame.\n",
      "Try using .loc[row_indexer,col_indexer] = value instead\n",
      "\n",
      "See the caveats in the documentation: http://pandas.pydata.org/pandas-docs/stable/user_guide/indexing.html#returning-a-view-versus-a-copy\n",
      "  \"\"\"Entry point for launching an IPython kernel.\n",
      "/Users/Corey/anaconda2/envs/py36/lib/python3.6/site-packages/ipykernel_launcher.py:2: SettingWithCopyWarning: \n",
      "A value is trying to be set on a copy of a slice from a DataFrame.\n",
      "Try using .loc[row_indexer,col_indexer] = value instead\n",
      "\n",
      "See the caveats in the documentation: http://pandas.pydata.org/pandas-docs/stable/user_guide/indexing.html#returning-a-view-versus-a-copy\n",
      "  \n"
     ]
    }
   ],
   "source": [
    "DS8_sig1['Cell Line'] = np.where(DS8_sig1['cell.line'] == \"PC9-DS8\", 'PC9-DS8.1', 'not.assigned')\n",
    "DS8_sig2['Cell Line'] = np.where(DS8_sig2['cell.line'] == \"PC9-DS8\", 'PC9-DS8.2', 'not.assigned')\n",
    "\n",
    "print(DS8_sig1)\n",
    "print(DS8_sig2)\n",
    "\n"
   ]
  },
  {
   "cell_type": "code",
   "execution_count": 55,
   "metadata": {},
   "outputs": [
    {
     "name": "stdout",
     "output_type": "stream",
     "text": [
      "       p-value     cell.line  DIP Rate  Division Rate  Death Rate  param.pair  \\\n",
      "0     0.000340  not.assigned    0.0005          0.021      0.0205           0   \n",
      "1     0.001276  not.assigned    0.0005          0.021      0.0205           1   \n",
      "2     0.000047  not.assigned    0.0005          0.021      0.0205           2   \n",
      "3     0.002500  not.assigned    0.0005          0.021      0.0205           3   \n",
      "4     0.000068  not.assigned    0.0005          0.021      0.0205           4   \n",
      "...        ...           ...       ...            ...         ...         ...   \n",
      "6595  0.000310  not.assigned    0.0067          0.040      0.0333        6595   \n",
      "6596  0.008578  not.assigned    0.0069          0.040      0.0331        6596   \n",
      "6597  0.009978  not.assigned    0.0071          0.040      0.0329        6597   \n",
      "6598  0.001288  not.assigned    0.0073          0.040      0.0327        6598   \n",
      "6599  0.000018  not.assigned    0.0075          0.040      0.0325        6599   \n",
      "\n",
      "         Cell Line  \n",
      "0     not.assigned  \n",
      "1     not.assigned  \n",
      "2     not.assigned  \n",
      "3     not.assigned  \n",
      "4     not.assigned  \n",
      "...            ...  \n",
      "6595  not.assigned  \n",
      "6596  not.assigned  \n",
      "6597  not.assigned  \n",
      "6598  not.assigned  \n",
      "6599  not.assigned  \n",
      "\n",
      "[13200 rows x 7 columns]\n"
     ]
    }
   ],
   "source": [
    "DS8_sig_all = pd.concat([DS8_sig1, DS8_sig2])\n",
    "print(DS8_sig_all)\n"
   ]
  },
  {
   "cell_type": "code",
   "execution_count": 56,
   "metadata": {},
   "outputs": [],
   "source": [
    "DS8_sig_all.to_csv('DS8_twoState_tile_wholeRange.csv')"
   ]
  },
  {
   "cell_type": "code",
   "execution_count": null,
   "metadata": {},
   "outputs": [],
   "source": []
  },
  {
   "cell_type": "code",
   "execution_count": null,
   "metadata": {},
   "outputs": [],
   "source": []
  }
 ],
 "metadata": {
  "kernelspec": {
   "display_name": "py36",
   "language": "python",
   "name": "py36"
  },
  "language_info": {
   "codemirror_mode": {
    "name": "ipython",
    "version": 3
   },
   "file_extension": ".py",
   "mimetype": "text/x-python",
   "name": "python",
   "nbconvert_exporter": "python",
   "pygments_lexer": "ipython3",
   "version": "3.6.2"
  }
 },
 "nbformat": 4,
 "nbformat_minor": 2
}
